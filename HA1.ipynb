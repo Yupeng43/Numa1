{
 "cells": [
  {
   "cell_type": "markdown",
   "id": "be92c1a7",
   "metadata": {},
   "source": [
    "## Namen der Gruppenmitglieder:\n",
    "# 1. Yupeng Yu    0479983"
   ]
  },
  {
   "cell_type": "code",
   "execution_count": null,
   "id": "6da0dec9",
   "metadata": {},
   "outputs": [],
   "source": [
    "# copied from chatgpt\n",
    "\n",
    "import numpy as np\n",
    "\n",
    "def euler_method(f, t0, y0, h, N):\n",
    "    \"\"\"\n",
    "    Solve an ODE y' = f(t, y) using the Explicit Euler method.\n",
    "\n",
    "    Parameters:\n",
    "        f : function\n",
    "            The right-hand side of the ODE y' = f(t, y).\n",
    "        t0 : float\n",
    "            The initial time (scalar).\n",
    "        y0 : np.ndarray\n",
    "            The initial value y(t0) = y0 (a column vector).\n",
    "        h : float\n",
    "            The (constant) size of the time steps (scalar, >0).\n",
    "        N : int\n",
    "            The number of time steps (scalar >= 1).\n",
    "\n",
    "    Returns:\n",
    "        yHist : np.ndarray\n",
    "            The history of all iterates y_i ~ y(t_i), i = 0,...,N,\n",
    "            this is a matrix of size (len(y0), N + 1).\n",
    "    \"\"\"\n",
    "    # Initialize history matrix\n",
    "    yHist = np.zeros((len(y0), N + 1))  # Shape: (len(y0), N + 1)\n",
    "    yHist[:, 0] = y0  # Set initial condition\n",
    "\n",
    "    # Time evolution using the Explicit Euler method\n",
    "    for i in range(N):\n",
    "        t = t0 + i * h  # Current time\n",
    "        yHist[:, i + 1] = yHist[:, i] + h * f(t, yHist[:, i])  # Update y\n",
    "\n",
    "    return yHist\n",
    "\n",
    "# Example usage:\n",
    "if __name__ == \"__main__\":\n",
    "    # Define the ODE function, for example, y' = -2y\n",
    "    def f(t, y):\n",
    "        return -2 * y\n",
    "\n",
    "    # Initial conditions\n",
    "    t0 = 0.0\n",
    "    y0 = np.array([1.0])  # Initial value (as a column vector)\n",
    "    h = 0.1               # Time step size\n",
    "    N = 10                # Number of steps\n",
    "\n",
    "    # Solve the ODE\n",
    "    history = euler_method(f, t0, y0, h, N)\n",
    "\n",
    "    # Print the results\n",
    "    print(\"Time steps and corresponding values:\")\n",
    "    for i in range(N + 1):\n",
    "        print(f\"t={t0 + i*h:.1f}, y={history[:, i]}\")\n"
   ]
  }
 ],
 "metadata": {
  "kernelspec": {
   "display_name": "Python 3 (ipykernel)",
   "language": "python",
   "name": "python3"
  },
  "language_info": {
   "codemirror_mode": {
    "name": "ipython",
    "version": 3
   },
   "file_extension": ".py",
   "mimetype": "text/x-python",
   "name": "python",
   "nbconvert_exporter": "python",
   "pygments_lexer": "ipython3",
   "version": "3.11.5"
  }
 },
 "nbformat": 4,
 "nbformat_minor": 5
}
