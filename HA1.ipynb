import numpy as np

def euler_method(f, t0, y0, h, N):
    """
    Solve an ODE y' = f(t, y) using the Explicit Euler method.

    Parameters:
        f : function
            The right-hand side of the ODE y' = f(t, y).
        t0 : float
            The initial time (scalar).
        y0 : np.ndarray
            The initial value y(t0) = y0 (a column vector).
        h : float
            The (constant) size of the time steps (scalar, >0).
        N : int
            The number of time steps (scalar >= 1).

    Returns:
        yHist : np.ndarray
            The history of all iterates y_i ~ y(t_i), i = 0,...,N,
            this is a matrix of size (len(y0), N + 1).
    """
    # Initialize history matrix
    yHist = np.zeros((len(y0), N + 1))  # Shape: (len(y0), N + 1)
    yHist[:, 0] = y0  # Set initial condition

    # Time evolution using the Explicit Euler method
    for i in range(N):
        t = t0 + i * h  # Current time
        yHist[:, i + 1] = yHist[:, i] + h * f(t, yHist[:, i])  # Update y

    return yHist

# Example usage:
if __name__ == "__main__":
    # Define the ODE function, for example, y' = -2y
    def f(t, y):
        return -2 * y

    # Initial conditions
    t0 = 0.0
    y0 = np.array([1.0])  # Initial value (as a column vector)
    h = 0.1               # Time step size
    N = 10                # Number of steps

    # Solve the ODE
    history = euler_method(f, t0, y0, h, N)

    # Print the results
    print("Time steps and corresponding values:")
    for i in range(N + 1):
        print(f"t={t0 + i*h:.1f}, y={history[:, i]}")

